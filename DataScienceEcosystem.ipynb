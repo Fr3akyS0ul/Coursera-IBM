{
 "cells": [
  {
   "cell_type": "markdown",
   "id": "aa441780-c560-40c9-83ad-7469ac828979",
   "metadata": {},
   "source": [
    "# Data Science Tools and Ecosystem"
   ]
  },
  {
   "cell_type": "markdown",
   "id": "7b7f961a-a60c-45eb-bb5a-29372987117a",
   "metadata": {},
   "source": [
    "In this notebook, Data Science Tools and Ecosystem are summarized."
   ]
  },
  {
   "cell_type": "markdown",
   "id": "d5f6c558-1edc-4819-8d4b-050f350de2a5",
   "metadata": {},
   "source": [
    "**Objectives:**"
   ]
  },
  {
   "cell_type": "markdown",
   "id": "1a5181df-875e-4737-9922-668c3b02236b",
   "metadata": {},
   "source": [
    "- Java\n",
    "- Python\n",
    "- Scala\n",
    "- Julia\n",
    "- R"
   ]
  },
  {
   "cell_type": "code",
   "execution_count": null,
   "id": "93d3d6fb-3fa0-4371-bf7c-40b8e6713092",
   "metadata": {},
   "outputs": [],
   "source": [
    "## Author\n",
    "David Kozel"
   ]
  },
  {
   "cell_type": "markdown",
   "id": "ef3f6acc-b9dc-485f-a51e-af916eb82bc4",
   "metadata": {},
   "source": [
    "Some of the popular languages that Data Scientists use are:"
   ]
  },
  {
   "cell_type": "markdown",
   "id": "6666cee3-5c01-4498-88b3-3bc855e37e01",
   "metadata": {},
   "source": [
    "1. Python\n",
    "2. R\n",
    "3. Mysql\n",
    "4. MongoDB"
   ]
  },
  {
   "cell_type": "markdown",
   "id": "375eb155-89da-447b-85ac-f34ed5a5224f",
   "metadata": {},
   "source": [
    "Some of the commonly used libraries used by Data Scientists include:"
   ]
  },
  {
   "cell_type": "markdown",
   "id": "a2139d77-1ffa-4180-83c6-977eff91ff97",
   "metadata": {},
   "source": [
    "1. NumPy\n",
    "2. Panda\n",
    "3. Pytorch\n",
    "4. Plotly"
   ]
  },
  {
   "cell_type": "markdown",
   "id": "44e74017-7df9-4054-95d6-c003744d3f24",
   "metadata": {},
   "source": [
    "| Data Science Tools           |\n",
    "|------------------------------|\n",
    "| Jupyter Notebooks             |\n",
    "| RStudio                       |\n",
    "| Spyder                        |"
   ]
  },
  {
   "cell_type": "markdown",
   "id": "8878063d-ef9d-4cb6-9777-b49fa159e12e",
   "metadata": {},
   "source": [
    "### Below are a few examples of evaluating arithmetic expressions in Python"
   ]
  },
  {
   "cell_type": "code",
   "execution_count": 1,
   "id": "03d2b6b0-f901-4ebe-8cff-4d26eb3e0f67",
   "metadata": {},
   "outputs": [
    {
     "data": {
      "text/plain": [
       "17"
      ]
     },
     "execution_count": 1,
     "metadata": {},
     "output_type": "execute_result"
    }
   ],
   "source": [
    "# This is a simple arithmetic expression to multiply then add integers\n",
    "(3*4)+5"
   ]
  },
  {
   "cell_type": "code",
   "execution_count": 2,
   "id": "95f81f95-867e-4eb0-a5b1-37d2b629a43b",
   "metadata": {},
   "outputs": [
    {
     "data": {
      "text/plain": [
       "3.3333333333333335"
      ]
     },
     "execution_count": 2,
     "metadata": {},
     "output_type": "execute_result"
    }
   ],
   "source": [
    "# This will convert 200 minutes to hours by dividing by 60\n",
    "200 / 60"
   ]
  },
  {
   "cell_type": "code",
   "execution_count": null,
   "id": "2df2e7f6-969c-4b48-b4e7-f2652bbc5685",
   "metadata": {},
   "outputs": [],
   "source": []
  }
 ],
 "metadata": {
  "kernelspec": {
   "display_name": "Python 3 (ipykernel)",
   "language": "python",
   "name": "python3"
  },
  "language_info": {
   "codemirror_mode": {
    "name": "ipython",
    "version": 3
   },
   "file_extension": ".py",
   "mimetype": "text/x-python",
   "name": "python",
   "nbconvert_exporter": "python",
   "pygments_lexer": "ipython3",
   "version": "3.11.9"
  }
 },
 "nbformat": 4,
 "nbformat_minor": 5
}
